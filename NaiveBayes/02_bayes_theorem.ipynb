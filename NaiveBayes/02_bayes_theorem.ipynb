{
 "cells": [
  {
   "cell_type": "markdown",
   "metadata": {},
   "source": [
    "# Cookie Problem\n",
    "Bowl 1: 30 Vanilla + 10 Chocolate\n",
    "\n",
    "Bowl 2: 20 Vanilla + 20 Chocolate\n",
    "\n",
    "Now suppose you choose one of the bowls at random and, without looking, choose a cookie at random. If the cookie is vanilla, what is the probability that it came from Bowl 1?"
   ]
  },
  {
   "cell_type": "code",
   "execution_count": 4,
   "metadata": {},
   "outputs": [
    {
     "data": {
      "text/html": [
       "<div>\n",
       "<style scoped>\n",
       "    .dataframe tbody tr th:only-of-type {\n",
       "        vertical-align: middle;\n",
       "    }\n",
       "\n",
       "    .dataframe tbody tr th {\n",
       "        vertical-align: top;\n",
       "    }\n",
       "\n",
       "    .dataframe thead th {\n",
       "        text-align: right;\n",
       "    }\n",
       "</style>\n",
       "<table border=\"1\" class=\"dataframe\">\n",
       "  <thead>\n",
       "    <tr style=\"text-align: right;\">\n",
       "      <th></th>\n",
       "      <th>prior</th>\n",
       "      <th>likelihood</th>\n",
       "      <th>unnorm</th>\n",
       "      <th>posterior</th>\n",
       "    </tr>\n",
       "  </thead>\n",
       "  <tbody>\n",
       "    <tr>\n",
       "      <th>Bowl 1</th>\n",
       "      <td>0.5</td>\n",
       "      <td>0.75</td>\n",
       "      <td>0.375</td>\n",
       "      <td>0.6</td>\n",
       "    </tr>\n",
       "    <tr>\n",
       "      <th>Bowl 2</th>\n",
       "      <td>0.5</td>\n",
       "      <td>0.50</td>\n",
       "      <td>0.250</td>\n",
       "      <td>0.4</td>\n",
       "    </tr>\n",
       "  </tbody>\n",
       "</table>\n",
       "</div>"
      ],
      "text/plain": [
       "        prior  likelihood  unnorm  posterior\n",
       "Bowl 1    0.5        0.75   0.375        0.6\n",
       "Bowl 2    0.5        0.50   0.250        0.4"
      ]
     },
     "execution_count": 4,
     "metadata": {},
     "output_type": "execute_result"
    }
   ],
   "source": [
    "import pandas as pd\n",
    "table = pd.DataFrame(index=['Bowl 1', 'Bowl 2'])\n",
    "\n",
    "# Kemungkinan dipilihnya masing-masing bowl\n",
    "#P(B1) & P(B2)\n",
    "table['prior'] = 1/2, 1/2\n",
    "\n",
    "# Kemungkinan terambil vanilla dari masing-masing bowl\n",
    "# P(V | B1) & P(V | B2)\n",
    "table['likelihood'] = 3/4, 1/2\n",
    "\n",
    "# Perkalian antara prior dan likelihood [Teorema ke-2]\n",
    "# P(Bi) * P(V | Bi) = P(V & Bi)\n",
    "table['unnorm'] = table['prior'] * table['likelihood']\n",
    "\n",
    "# Denominator dari teorema bayes P(V) [Law of Total Probability]\n",
    "# sum(P(Bi) * P(V | Bi)) = P(V)\n",
    "prob_data = table['unnorm'].sum()\n",
    "\n",
    "# Kemungkinan kue vanilla berasal dari masing-masing bowl\n",
    "# P(Bi) * P(V | Bi) / P(V) = P(V | Bi)\n",
    "table['posterior'] = table['unnorm'] / prob_data\n",
    "table"
   ]
  },
  {
   "cell_type": "markdown",
   "metadata": {},
   "source": [
    "# Dice Problem\n",
    "Suppose I have a box with a 6-sided die, an 8-sided die, and a 12-sided die.\n",
    "\n",
    "I choose one of the dice at random, roll it, and report that the outcome is a 1.\n",
    "\n",
    "What is the probability that I chose the 6-sided die?"
   ]
  },
  {
   "cell_type": "code",
   "execution_count": 9,
   "metadata": {},
   "outputs": [
    {
     "data": {
      "text/html": [
       "<div>\n",
       "<style scoped>\n",
       "    .dataframe tbody tr th:only-of-type {\n",
       "        vertical-align: middle;\n",
       "    }\n",
       "\n",
       "    .dataframe tbody tr th {\n",
       "        vertical-align: top;\n",
       "    }\n",
       "\n",
       "    .dataframe thead th {\n",
       "        text-align: right;\n",
       "    }\n",
       "</style>\n",
       "<table border=\"1\" class=\"dataframe\">\n",
       "  <thead>\n",
       "    <tr style=\"text-align: right;\">\n",
       "      <th></th>\n",
       "      <th>prior</th>\n",
       "      <th>likelihood</th>\n",
       "      <th>unnorm</th>\n",
       "      <th>posterior</th>\n",
       "    </tr>\n",
       "  </thead>\n",
       "  <tbody>\n",
       "    <tr>\n",
       "      <th>6</th>\n",
       "      <td>1/3</td>\n",
       "      <td>1/6</td>\n",
       "      <td>1/18</td>\n",
       "      <td>20/47</td>\n",
       "    </tr>\n",
       "    <tr>\n",
       "      <th>8</th>\n",
       "      <td>1/3</td>\n",
       "      <td>1/8</td>\n",
       "      <td>1/24</td>\n",
       "      <td>15/47</td>\n",
       "    </tr>\n",
       "    <tr>\n",
       "      <th>10</th>\n",
       "      <td>1/3</td>\n",
       "      <td>1/10</td>\n",
       "      <td>1/30</td>\n",
       "      <td>12/47</td>\n",
       "    </tr>\n",
       "  </tbody>\n",
       "</table>\n",
       "</div>"
      ],
      "text/plain": [
       "   prior likelihood unnorm posterior\n",
       "6    1/3        1/6   1/18     20/47\n",
       "8    1/3        1/8   1/24     15/47\n",
       "10   1/3       1/10   1/30     12/47"
      ]
     },
     "execution_count": 9,
     "metadata": {},
     "output_type": "execute_result"
    }
   ],
   "source": [
    "from fractions import Fraction\n",
    "\n",
    "table2 = pd.DataFrame(index=[6, 8, 10])\n",
    "table2['prior'] = Fraction(1, 3), Fraction(1, 3), Fraction(1, 3)\n",
    "table2['likelihood'] = Fraction(1, 6), Fraction(1, 8), Fraction(1, 10)\n",
    "table2['unnorm'] = table2['prior'] * table2['likelihood']\n",
    "\n",
    "prob_data2 = table2['unnorm'].sum()\n",
    "table2['posterior'] = table2['unnorm'] / prob_data2\n",
    "table2"
   ]
  },
  {
   "cell_type": "code",
   "execution_count": 13,
   "metadata": {},
   "outputs": [
    {
     "data": {
      "text/html": [
       "<div>\n",
       "<style scoped>\n",
       "    .dataframe tbody tr th:only-of-type {\n",
       "        vertical-align: middle;\n",
       "    }\n",
       "\n",
       "    .dataframe tbody tr th {\n",
       "        vertical-align: top;\n",
       "    }\n",
       "\n",
       "    .dataframe thead th {\n",
       "        text-align: right;\n",
       "    }\n",
       "</style>\n",
       "<table border=\"1\" class=\"dataframe\">\n",
       "  <thead>\n",
       "    <tr style=\"text-align: right;\">\n",
       "      <th></th>\n",
       "      <th>prior</th>\n",
       "      <th>likelihood</th>\n",
       "      <th>unnorm</th>\n",
       "      <th>posterior</th>\n",
       "    </tr>\n",
       "  </thead>\n",
       "  <tbody>\n",
       "    <tr>\n",
       "      <th>Pria</th>\n",
       "      <td>0.5</td>\n",
       "      <td>0.2</td>\n",
       "      <td>0.10</td>\n",
       "      <td>0.4</td>\n",
       "    </tr>\n",
       "    <tr>\n",
       "      <th>Wanita</th>\n",
       "      <td>0.5</td>\n",
       "      <td>0.3</td>\n",
       "      <td>0.15</td>\n",
       "      <td>0.6</td>\n",
       "    </tr>\n",
       "  </tbody>\n",
       "</table>\n",
       "</div>"
      ],
      "text/plain": [
       "        prior  likelihood  unnorm  posterior\n",
       "Pria      0.5         0.2    0.10        0.4\n",
       "Wanita    0.5         0.3    0.15        0.6"
      ]
     },
     "execution_count": 13,
     "metadata": {},
     "output_type": "execute_result"
    }
   ],
   "source": [
    "'''\n",
    "    Seseorang diculik dari suatu event.\n",
    "    Jika orang itu adalah cosplayer, berapa kemungkinan jenis kelaminnya?\n",
    "'''\n",
    "table3 = pd.DataFrame(index=['Pria', 'Wanita'])\n",
    "\n",
    "# Kemungkinan orang itu adalah pria / wanita [B]\n",
    "# P(Pria) & P(Wanita)\n",
    "table3['prior'] = 0.5, 0.5\n",
    "\n",
    "# Kemungkinan cosplayer untuk masing-masing jenis kelamin\n",
    "# P(Cosplayer | Pria) & P(Cosplayer | Wanita)\n",
    "table3['likelihood'] = 0.2, 0.3\n",
    "\n",
    "# Perkalian antara prior dan likelihood [Teorema ke-2]\n",
    "# P(B) * P(Cosplayer | B) = P(Cosplayer & B)\n",
    "table3['unnorm'] = table3['prior'] * table3['likelihood']\n",
    "\n",
    "# P(C) [Law of Total Probability]\n",
    "# sum(P(Bi) * P(Cosplayer | Bi)) = P(Cosplayer)\n",
    "prob_data3 = table3['unnorm'].sum()\n",
    "\n",
    "# Kemungkinan cosplayer berasal dari masing-masing jenis kelamin\n",
    "# P(Bi) * P(Cosplayer | Bi) / P(Cosplayer) = P(Cosplayer | Bi)\n",
    "# Posterior Pria = P(Cosplayer | Pria)\n",
    "# Posterior Wanita = P(Cosplayer | Wanita)\n",
    "table3['posterior'] = table3['unnorm'] / prob_data3\n",
    "table3"
   ]
  }
 ],
 "metadata": {
  "interpreter": {
   "hash": "5c3a4ba8f0a605bc784b58bf0abb4321a73521da8712a7a45623b3d418e73eb7"
  },
  "kernelspec": {
   "display_name": "Python 3.8.7 64-bit",
   "language": "python",
   "name": "python3"
  },
  "language_info": {
   "codemirror_mode": {
    "name": "ipython",
    "version": 3
   },
   "file_extension": ".py",
   "mimetype": "text/x-python",
   "name": "python",
   "nbconvert_exporter": "python",
   "pygments_lexer": "ipython3",
   "version": "3.8.7"
  },
  "orig_nbformat": 4
 },
 "nbformat": 4,
 "nbformat_minor": 2
}
