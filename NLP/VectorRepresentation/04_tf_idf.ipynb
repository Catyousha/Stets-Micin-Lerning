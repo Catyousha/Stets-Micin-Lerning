{
 "cells": [
  {
   "cell_type": "code",
   "execution_count": 1,
   "metadata": {},
   "outputs": [
    {
     "data": {
      "text/plain": [
       "['The Archon War began an indeterminate time in the past, and ended around 2,000 years ago.',\n",
       " 'During this period of time, many gods and archons roamed the land, locked in a bitter struggle for supremacy.',\n",
       " 'It appears that the battles associated with the Archon War are a multitude of local struggles that were grouped together by human history.']"
      ]
     },
     "execution_count": 1,
     "metadata": {},
     "output_type": "execute_result"
    }
   ],
   "source": [
    "import nltk as nt\n",
    "mytext = \"The Archon War began an indeterminate time in the past, and ended around 2,000 years ago. During this period of time, many gods and archons roamed the land, locked in a bitter struggle for supremacy. It appears that the battles associated with the Archon War are a multitude of local struggles that were grouped together by human history.\"\n",
    "\n",
    "my_sentences = nt.sent_tokenize(mytext)\n",
    "my_sentences"
   ]
  },
  {
   "cell_type": "code",
   "execution_count": 28,
   "metadata": {},
   "outputs": [
    {
     "data": {
      "text/plain": [
       "['the archon war began indeterminate time past ended around 2,000 years ago',\n",
       " 'during period time many gods archons roamed land locked bitter struggle supremacy',\n",
       " 'it appears battles associated archon war multitude local struggles grouped together human history']"
      ]
     },
     "execution_count": 28,
     "metadata": {},
     "output_type": "execute_result"
    }
   ],
   "source": [
    "from nltk.corpus import stopwords\n",
    "from string import punctuation\n",
    "\n",
    "mystopwords = set(stopwords.words(\"english\"))\n",
    "\n",
    "def remove_stops_digits(tokens):\n",
    "    # hilangkan token yang berupa:\n",
    "    # stopwords, angka, dan punctuation (tanda baca)\n",
    "    return [token.lower() for (token) in tokens if (token not in mystopwords) and not (token.isdigit()) and (token not in punctuation)]\n",
    "\n",
    "processed_docs = [remove_stops_digits(nt.word_tokenize(text)) for text in my_sentences]\n",
    "processed_docs = [' '.join(doc) for doc in processed_docs]\n",
    "processed_docs"
   ]
  },
  {
   "cell_type": "code",
   "execution_count": 30,
   "metadata": {},
   "outputs": [
    {
     "data": {
      "text/plain": [
       "{'000': 1.6931471805599454,\n",
       " 'ago': 1.6931471805599454,\n",
       " 'appears': 1.6931471805599454,\n",
       " 'archon': 1.2876820724517808,\n",
       " 'archons': 1.6931471805599454,\n",
       " 'around': 1.6931471805599454,\n",
       " 'associated': 1.6931471805599454,\n",
       " 'battles': 1.6931471805599454,\n",
       " 'began': 1.6931471805599454,\n",
       " 'bitter': 1.6931471805599454,\n",
       " 'during': 1.6931471805599454,\n",
       " 'ended': 1.6931471805599454,\n",
       " 'gods': 1.6931471805599454,\n",
       " 'grouped': 1.6931471805599454,\n",
       " 'history': 1.6931471805599454,\n",
       " 'human': 1.6931471805599454,\n",
       " 'indeterminate': 1.6931471805599454,\n",
       " 'it': 1.6931471805599454,\n",
       " 'land': 1.6931471805599454,\n",
       " 'local': 1.6931471805599454,\n",
       " 'locked': 1.6931471805599454,\n",
       " 'many': 1.6931471805599454,\n",
       " 'multitude': 1.6931471805599454,\n",
       " 'past': 1.6931471805599454,\n",
       " 'period': 1.6931471805599454,\n",
       " 'roamed': 1.6931471805599454,\n",
       " 'struggle': 1.6931471805599454,\n",
       " 'struggles': 1.6931471805599454,\n",
       " 'supremacy': 1.6931471805599454,\n",
       " 'the': 1.6931471805599454,\n",
       " 'time': 1.2876820724517808,\n",
       " 'together': 1.6931471805599454,\n",
       " 'war': 1.2876820724517808,\n",
       " 'years': 1.6931471805599454}"
      ]
     },
     "execution_count": 30,
     "metadata": {},
     "output_type": "execute_result"
    }
   ],
   "source": [
    "from sklearn.feature_extraction.text import TfidfVectorizer\n",
    "\n",
    "tfidf =TfidfVectorizer()\n",
    "bow_rep_tfidf = tfidf.fit_transform(processed_docs)\n",
    "# semakin kecil nilai idf, maka semakin penting kata itu\n",
    "word_dict = dict(zip(tfidf.get_feature_names(), tfidf.idf_))\n",
    "word_dict"
   ]
  },
  {
   "cell_type": "code",
   "execution_count": 32,
   "metadata": {},
   "outputs": [
    {
     "data": {
      "text/plain": [
       "[array([[0.26982522, 0.26982522, 0.        , 0.20520903, 0.        ,\n",
       "         0.26982522, 0.        , 0.        , 0.26982522, 0.        ,\n",
       "         0.        , 0.26982522, 0.        , 0.        , 0.        ,\n",
       "         0.        , 0.26982522, 0.        , 0.        , 0.        ,\n",
       "         0.        , 0.        , 0.        , 0.26982522, 0.        ,\n",
       "         0.        , 0.        , 0.        , 0.        , 0.53965043,\n",
       "         0.20520903, 0.        , 0.20520903, 0.26982522]]),\n",
       " array([[0.        , 0.        , 0.        , 0.        , 0.28195987,\n",
       "         0.        , 0.        , 0.        , 0.        , 0.28195987,\n",
       "         0.28195987, 0.        , 0.28195987, 0.        , 0.        ,\n",
       "         0.        , 0.        , 0.        , 0.28195987, 0.        ,\n",
       "         0.28195987, 0.28195987, 0.        , 0.        , 0.28195987,\n",
       "         0.28195987, 0.28195987, 0.        , 0.28195987, 0.28195987,\n",
       "         0.21443775, 0.        , 0.        , 0.        ]]),\n",
       " array([[0.        , 0.        , 0.24878394, 0.1892066 , 0.        ,\n",
       "         0.        , 0.24878394, 0.24878394, 0.        , 0.        ,\n",
       "         0.        , 0.        , 0.        , 0.24878394, 0.24878394,\n",
       "         0.24878394, 0.        , 0.24878394, 0.        , 0.24878394,\n",
       "         0.        , 0.        , 0.24878394, 0.        , 0.        ,\n",
       "         0.        , 0.        , 0.24878394, 0.        , 0.49756788,\n",
       "         0.        , 0.24878394, 0.1892066 , 0.        ]])]"
      ]
     },
     "execution_count": 32,
     "metadata": {},
     "output_type": "execute_result"
    }
   ],
   "source": [
    "vector_array = []\n",
    "for sentence in my_sentences:\n",
    "    vect = tfidf.transform([sentence])\n",
    "    vector_array.append(vect.toarray())\n",
    "\n",
    "vector_array"
   ]
  }
 ],
 "metadata": {
  "interpreter": {
   "hash": "5c3a4ba8f0a605bc784b58bf0abb4321a73521da8712a7a45623b3d418e73eb7"
  },
  "kernelspec": {
   "display_name": "Python 3.8.7 64-bit",
   "language": "python",
   "name": "python3"
  },
  "language_info": {
   "codemirror_mode": {
    "name": "ipython",
    "version": 3
   },
   "file_extension": ".py",
   "mimetype": "text/x-python",
   "name": "python",
   "nbconvert_exporter": "python",
   "pygments_lexer": "ipython3",
   "version": "3.8.7"
  },
  "orig_nbformat": 4
 },
 "nbformat": 4,
 "nbformat_minor": 2
}
