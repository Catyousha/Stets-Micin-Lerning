{
 "cells": [
  {
   "cell_type": "code",
   "execution_count": 1,
   "metadata": {},
   "outputs": [
    {
     "data": {
      "text/plain": [
       "['The Archon War began an indeterminate time in the past, and ended around 2,000 years ago.',\n",
       " 'During this period of time, many gods and archons roamed the land, locked in a bitter struggle for supremacy.',\n",
       " 'It appears that the battles associated with the Archon War are a multitude of local struggles that were grouped together by human history.']"
      ]
     },
     "execution_count": 1,
     "metadata": {},
     "output_type": "execute_result"
    }
   ],
   "source": [
    "import nltk as nt\n",
    "mytext = \"The Archon War began an indeterminate time in the past, and ended around 2,000 years ago. During this period of time, many gods and archons roamed the land, locked in a bitter struggle for supremacy. It appears that the battles associated with the Archon War are a multitude of local struggles that were grouped together by human history.\"\n",
    "\n",
    "my_sentences = nt.sent_tokenize(mytext)\n",
    "my_sentences"
   ]
  },
  {
   "cell_type": "code",
   "execution_count": 4,
   "metadata": {},
   "outputs": [
    {
     "name": "stdout",
     "output_type": "stream",
     "text": [
      "Our vocabulary:  {'the': 75, 'archon': 10, 'war': 87, 'began': 22, 'an': 3, 'indeterminate': 44, 'time': 82, 'in': 41, 'past': 61, 'and': 5, 'ended': 30, 'around': 16, '000': 0, 'years': 94, 'ago': 2, 'the archon': 76, 'archon war': 11, 'war began': 89, 'began an': 23, 'an indeterminate': 4, 'indeterminate time': 45, 'time in': 83, 'in the': 43, 'the past': 79, 'past and': 62, 'and ended': 7, 'ended around': 31, 'around 000': 17, '000 years': 1, 'years ago': 95, 'during': 28, 'this': 80, 'period': 63, 'of': 58, 'many': 54, 'gods': 34, 'archons': 12, 'roamed': 65, 'land': 48, 'locked': 52, 'bitter': 24, 'struggle': 67, 'for': 32, 'supremacy': 71, 'during this': 29, 'this period': 81, 'period of': 64, 'of time': 60, 'time many': 84, 'many gods': 55, 'gods and': 35, 'and archons': 6, 'archons roamed': 13, 'roamed the': 66, 'the land': 78, 'land locked': 49, 'locked in': 53, 'in bitter': 42, 'bitter struggle': 25, 'struggle for': 68, 'for supremacy': 33, 'it': 46, 'appears': 8, 'that': 72, 'battles': 20, 'associated': 18, 'with': 92, 'are': 14, 'multitude': 56, 'local': 50, 'struggles': 69, 'were': 90, 'grouped': 36, 'together': 85, 'by': 26, 'human': 39, 'history': 38, 'it appears': 47, 'appears that': 9, 'that the': 73, 'the battles': 77, 'battles associated': 21, 'associated with': 19, 'with the': 93, 'war are': 88, 'are multitude': 15, 'multitude of': 57, 'of local': 59, 'local struggles': 51, 'struggles that': 70, 'that were': 74, 'were grouped': 91, 'grouped together': 37, 'together by': 86, 'by human': 27, 'human history': 40}\n",
      "  (0, 75)\t2\n",
      "  (0, 10)\t1\n",
      "  (0, 87)\t1\n",
      "  (0, 22)\t1\n",
      "  (0, 3)\t1\n",
      "  (0, 44)\t1\n",
      "  (0, 82)\t1\n",
      "  (0, 41)\t1\n",
      "  (0, 61)\t1\n",
      "  (0, 5)\t1\n",
      "  (0, 30)\t1\n",
      "  (0, 16)\t1\n",
      "  (0, 0)\t1\n",
      "  (0, 94)\t1\n",
      "  (0, 2)\t1\n",
      "  (0, 76)\t1\n",
      "  (0, 11)\t1\n",
      "  (0, 89)\t1\n",
      "  (0, 23)\t1\n",
      "  (0, 4)\t1\n",
      "  (0, 45)\t1\n",
      "  (0, 83)\t1\n",
      "  (0, 43)\t1\n",
      "  (0, 79)\t1\n",
      "  (0, 62)\t1\n",
      "  :\t:\n",
      "  (2, 90)\t1\n",
      "  (2, 36)\t1\n",
      "  (2, 85)\t1\n",
      "  (2, 26)\t1\n",
      "  (2, 39)\t1\n",
      "  (2, 38)\t1\n",
      "  (2, 47)\t1\n",
      "  (2, 9)\t1\n",
      "  (2, 73)\t1\n",
      "  (2, 77)\t1\n",
      "  (2, 21)\t1\n",
      "  (2, 19)\t1\n",
      "  (2, 93)\t1\n",
      "  (2, 88)\t1\n",
      "  (2, 15)\t1\n",
      "  (2, 57)\t1\n",
      "  (2, 59)\t1\n",
      "  (2, 51)\t1\n",
      "  (2, 70)\t1\n",
      "  (2, 74)\t1\n",
      "  (2, 91)\t1\n",
      "  (2, 37)\t1\n",
      "  (2, 86)\t1\n",
      "  (2, 27)\t1\n",
      "  (2, 40)\t1\n",
      "[[1 1 1 1 1 1 0 1 0 0 1 1 0 0 0 0 1 1 0 0 0 0 1 1 0 0 0 0 0 0 1 1 0 0 0 0\n",
      "  0 0 0 0 0 1 0 1 1 1 0 0 0 0 0 0 0 0 0 0 0 0 0 0 0 1 1 0 0 0 0 0 0 0 0 0\n",
      "  0 0 0 2 1 0 0 1 0 0 1 1 0 0 0 1 0 1 0 0 0 0 1 1]\n",
      " [0 0 0 0 0 1 1 0 0 0 0 0 1 1 0 0 0 0 0 0 0 0 0 0 1 1 0 0 1 1 0 0 1 1 1 1\n",
      "  0 0 0 0 0 1 1 0 0 0 0 0 1 1 0 0 1 1 1 1 0 0 1 0 1 0 0 1 1 1 1 1 1 0 0 1\n",
      "  0 0 0 1 0 0 1 0 1 1 1 0 1 0 0 0 0 0 0 0 0 0 0 0]\n",
      " [0 0 0 0 0 0 0 0 1 1 1 1 0 0 1 1 0 0 1 1 1 1 0 0 0 0 1 1 0 0 0 0 0 0 0 0\n",
      "  1 1 1 1 1 0 0 0 0 0 1 1 0 0 1 1 0 0 0 0 1 1 1 1 0 0 0 0 0 0 0 0 0 1 1 0\n",
      "  2 1 1 2 1 1 0 0 0 0 0 0 0 1 1 1 1 0 1 1 1 1 0 0]]\n"
     ]
    }
   ],
   "source": [
    "from sklearn.feature_extraction.text import CountVectorizer\n",
    "\n",
    "# Sama seperti bag of words, hanya saja bag of ngrams memperluas kata-kata yang ada di dalam sebuah kalimat\n",
    "# Sehingga dalam corpus tidak berisi kata tunggal, melainkan gabungan kata-kata sejumlah n\n",
    "count_vect = CountVectorizer(ngram_range=(1,2))\n",
    "\n",
    "# Membuat kamus dari kata-kata yang ada di dalam corpus\n",
    "bow_rep = count_vect.fit_transform(my_sentences)\n",
    "\n",
    "# tiap kata diindeks dalam urutan abjad\n",
    "print(\"Our vocabulary: \", count_vect.vocabulary_)\n",
    "\n",
    "#(indeks_docs, indeks_kata) = jumlah kemunculan\n",
    "print(bow_rep)\n",
    "print(bow_rep.toarray()[:10])"
   ]
  }
 ],
 "metadata": {
  "interpreter": {
   "hash": "5c3a4ba8f0a605bc784b58bf0abb4321a73521da8712a7a45623b3d418e73eb7"
  },
  "kernelspec": {
   "display_name": "Python 3.8.7 64-bit",
   "language": "python",
   "name": "python3"
  },
  "language_info": {
   "codemirror_mode": {
    "name": "ipython",
    "version": 3
   },
   "file_extension": ".py",
   "mimetype": "text/x-python",
   "name": "python",
   "nbconvert_exporter": "python",
   "pygments_lexer": "ipython3",
   "version": "3.8.7"
  },
  "orig_nbformat": 4
 },
 "nbformat": 4,
 "nbformat_minor": 2
}
