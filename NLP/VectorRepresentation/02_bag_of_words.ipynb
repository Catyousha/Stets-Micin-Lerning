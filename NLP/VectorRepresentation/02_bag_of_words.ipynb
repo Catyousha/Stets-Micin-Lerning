{
 "cells": [
  {
   "cell_type": "code",
   "execution_count": 1,
   "metadata": {},
   "outputs": [
    {
     "data": {
      "text/plain": [
       "['The Archon War began an indeterminate time in the past, and ended around 2,000 years ago.',\n",
       " 'During this period of time, many gods and archons roamed the land, locked in a bitter struggle for supremacy.',\n",
       " 'It appears that the battles associated with the Archon War are a multitude of local struggles that were grouped together by human history.']"
      ]
     },
     "execution_count": 1,
     "metadata": {},
     "output_type": "execute_result"
    }
   ],
   "source": [
    "import nltk as nt\n",
    "mytext = \"The Archon War began an indeterminate time in the past, and ended around 2,000 years ago. During this period of time, many gods and archons roamed the land, locked in a bitter struggle for supremacy. It appears that the battles associated with the Archon War are a multitude of local struggles that were grouped together by human history.\"\n",
    "\n",
    "my_sentences = nt.sent_tokenize(mytext)\n",
    "my_sentences"
   ]
  },
  {
   "cell_type": "code",
   "execution_count": 8,
   "metadata": {},
   "outputs": [
    {
     "name": "stdout",
     "output_type": "stream",
     "text": [
      "Our vocabulary:  {'the': 37, 'archon': 5, 'war': 41, 'began': 11, 'an': 2, 'indeterminate': 22, 'time': 39, 'in': 21, 'past': 30, 'and': 3, 'ended': 15, 'around': 8, '000': 0, 'years': 44, 'ago': 1, 'during': 14, 'this': 38, 'period': 31, 'of': 29, 'many': 27, 'gods': 17, 'archons': 6, 'roamed': 32, 'land': 24, 'locked': 26, 'bitter': 12, 'struggle': 33, 'for': 16, 'supremacy': 35, 'it': 23, 'appears': 4, 'that': 36, 'battles': 10, 'associated': 9, 'with': 43, 'are': 7, 'multitude': 28, 'local': 25, 'struggles': 34, 'were': 42, 'grouped': 18, 'together': 40, 'by': 13, 'human': 20, 'history': 19}\n",
      "  (0, 37)\t2\n",
      "  (0, 5)\t1\n",
      "  (0, 41)\t1\n",
      "  (0, 11)\t1\n",
      "  (0, 2)\t1\n",
      "  (0, 22)\t1\n",
      "  (0, 39)\t1\n",
      "  (0, 21)\t1\n",
      "  (0, 30)\t1\n",
      "  (0, 3)\t1\n",
      "  (0, 15)\t1\n",
      "  (0, 8)\t1\n",
      "  (0, 0)\t1\n",
      "  (0, 44)\t1\n",
      "  (0, 1)\t1\n",
      "  (1, 37)\t1\n",
      "  (1, 39)\t1\n",
      "  (1, 21)\t1\n",
      "  (1, 3)\t1\n",
      "  (1, 14)\t1\n",
      "  (1, 38)\t1\n",
      "  (1, 31)\t1\n",
      "  (1, 29)\t1\n",
      "  (1, 27)\t1\n",
      "  (1, 17)\t1\n",
      "  :\t:\n",
      "  (1, 26)\t1\n",
      "  (1, 12)\t1\n",
      "  (1, 33)\t1\n",
      "  (1, 16)\t1\n",
      "  (1, 35)\t1\n",
      "  (2, 37)\t2\n",
      "  (2, 5)\t1\n",
      "  (2, 41)\t1\n",
      "  (2, 29)\t1\n",
      "  (2, 23)\t1\n",
      "  (2, 4)\t1\n",
      "  (2, 36)\t2\n",
      "  (2, 10)\t1\n",
      "  (2, 9)\t1\n",
      "  (2, 43)\t1\n",
      "  (2, 7)\t1\n",
      "  (2, 28)\t1\n",
      "  (2, 25)\t1\n",
      "  (2, 34)\t1\n",
      "  (2, 42)\t1\n",
      "  (2, 18)\t1\n",
      "  (2, 40)\t1\n",
      "  (2, 13)\t1\n",
      "  (2, 20)\t1\n",
      "  (2, 19)\t1\n",
      "[[1 1 1 1 0 1 0 0 1 0 0 1 0 0 0 1 0 0 0 0 0 1 1 0 0 0 0 0 0 0 1 0 0 0 0 0\n",
      "  0 2 0 1 0 1 0 0 1]\n",
      " [0 0 0 1 0 0 1 0 0 0 0 0 1 0 1 0 1 1 0 0 0 1 0 0 1 0 1 1 0 1 0 1 1 1 0 1\n",
      "  0 1 1 1 0 0 0 0 0]\n",
      " [0 0 0 0 1 1 0 1 0 1 1 0 0 1 0 0 0 0 1 1 1 0 0 1 0 1 0 0 1 1 0 0 0 0 1 0\n",
      "  2 2 0 0 1 1 1 1 0]]\n"
     ]
    }
   ],
   "source": [
    "from sklearn.feature_extraction.text import CountVectorizer\n",
    "\n",
    "count_vect = CountVectorizer()\n",
    "\n",
    "# Membuat kamus dari kata-kata yang ada di dalam corpus\n",
    "bow_rep = count_vect.fit_transform(my_sentences)\n",
    "\n",
    "# tiap kata diindeks dalam urutan abjad\n",
    "print(\"Our vocabulary: \", count_vect.vocabulary_)\n",
    "\n",
    "#(indeks_docs, indeks_kata) = jumlah kemunculan\n",
    "print(bow_rep)\n",
    "print(bow_rep.toarray()[:10])"
   ]
  }
 ],
 "metadata": {
  "interpreter": {
   "hash": "5c3a4ba8f0a605bc784b58bf0abb4321a73521da8712a7a45623b3d418e73eb7"
  },
  "kernelspec": {
   "display_name": "Python 3.8.7 64-bit",
   "language": "python",
   "name": "python3"
  },
  "language_info": {
   "codemirror_mode": {
    "name": "ipython",
    "version": 3
   },
   "file_extension": ".py",
   "mimetype": "text/x-python",
   "name": "python",
   "nbconvert_exporter": "python",
   "pygments_lexer": "ipython3",
   "version": "3.8.7"
  },
  "orig_nbformat": 4
 },
 "nbformat": 4,
 "nbformat_minor": 2
}
