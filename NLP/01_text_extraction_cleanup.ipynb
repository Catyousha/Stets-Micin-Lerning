{
 "cells": [
  {
   "cell_type": "markdown",
   "metadata": {},
   "source": [
    "# HTML Parsing & Cleanup"
   ]
  },
  {
   "cell_type": "code",
   "execution_count": 18,
   "metadata": {},
   "outputs": [],
   "source": [
    "from bs4 import BeautifulSoup\n",
    "from urllib.request import urlopen\n",
    "\n",
    "url = \"https://stackoverflow.com/questions/415511/how-to-get-the-current-time-in-python\"\n",
    "html = urlopen(url).read()\n",
    "soupified = BeautifulSoup(html, 'html.parser')"
   ]
  },
  {
   "cell_type": "code",
   "execution_count": 17,
   "metadata": {},
   "outputs": [
    {
     "data": {
      "text/plain": [
       "'What is the module/method used to get the current time?'"
      ]
     },
     "execution_count": 17,
     "metadata": {},
     "output_type": "execute_result"
    }
   ],
   "source": [
    "question = soupified.find('div', {'class': 'question'})\n",
    "questionText = question.find(\"div\", {\"itemprop\": \"text\"})\n",
    "questionText.get_text().strip()"
   ]
  },
  {
   "cell_type": "code",
   "execution_count": 16,
   "metadata": {},
   "outputs": [
    {
     "data": {
      "text/plain": [
       "'Use:\\n>>> import datetime\\n>>> datetime.datetime.now()\\ndatetime.datetime(2009, 1, 6, 15, 8, 24, 78915)\\n\\n>>> print(datetime.datetime.now())\\n2009-01-06 15:08:24.789150\\n\\nAnd just the time:\\n>>> datetime.datetime.now().time()\\ndatetime.time(15, 8, 24, 78915)\\n\\n>>> print(datetime.datetime.now().time())\\n15:08:24.789150\\n\\nSee the documentation for more information.\\nTo save typing, you can import the datetime object from the datetime module:\\n>>> from datetime import datetime\\n\\nThen remove the leading datetime. from all of the above.'"
      ]
     },
     "execution_count": 16,
     "metadata": {},
     "output_type": "execute_result"
    }
   ],
   "source": [
    "answer = soupified.find('div', {'class': 'answer'})\n",
    "answerText = answer.find(\"div\", {\"itemprop\": \"text\"})\n",
    "answerText.get_text().strip()"
   ]
  },
  {
   "cell_type": "markdown",
   "metadata": {},
   "source": [
    "# Unicode Normalization"
   ]
  },
  {
   "cell_type": "code",
   "execution_count": 20,
   "metadata": {},
   "outputs": [
    {
     "data": {
      "text/plain": [
       "b'\\xf0\\x9f\\x92\\x99\\xf0\\x9f\\x92\\x99\\xf0\\x9f\\x92\\x99'"
      ]
     },
     "execution_count": 20,
     "metadata": {},
     "output_type": "execute_result"
    }
   ],
   "source": [
    "text = '💙💙💙'\n",
    "text.encode('utf-8')"
   ]
  }
 ],
 "metadata": {
  "interpreter": {
   "hash": "5c3a4ba8f0a605bc784b58bf0abb4321a73521da8712a7a45623b3d418e73eb7"
  },
  "kernelspec": {
   "display_name": "Python 3.8.7 64-bit",
   "language": "python",
   "name": "python3"
  },
  "language_info": {
   "codemirror_mode": {
    "name": "ipython",
    "version": 3
   },
   "file_extension": ".py",
   "mimetype": "text/x-python",
   "name": "python",
   "nbconvert_exporter": "python",
   "pygments_lexer": "ipython3",
   "version": "3.8.7"
  },
  "orig_nbformat": 4
 },
 "nbformat": 4,
 "nbformat_minor": 2
}
